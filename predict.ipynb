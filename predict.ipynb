{
 "cells": [
  {
   "cell_type": "markdown",
   "metadata": {},
   "source": [
    "# Prediction Function\n",
    "\n",
    "This notebook aim to make function to preprocess and predict. Here's some details:\n",
    "\n",
    "**Input:**\n",
    "- dataset/secondhalf_v4.csv\n",
    "- outputs/OHE_encoder_second_v3.joblib\n",
    "- outputs/MM_scaler_second_v2.joblib\n",
    "- model\\Tuned\\BiLSTM_second_v3.h5\n",
    "\n",
    "**Output:**\n",
    "- for notebook: preprocessing(), predict()\n",
    "- for website: preprocessing(), predict()\n"
   ]
  },
  {
   "cell_type": "markdown",
   "metadata": {},
   "source": [
    "# Load Dataset"
   ]
  },
  {
   "cell_type": "code",
   "execution_count": 3,
   "metadata": {},
   "outputs": [],
   "source": [
    "import pandas as pd\n",
    "df = pd.read_csv('dataset/secondhalf_v4.csv')"
   ]
  },
  {
   "cell_type": "code",
   "execution_count": 4,
   "metadata": {},
   "outputs": [
    {
     "data": {
      "text/html": [
       "<div>\n",
       "<style scoped>\n",
       "    .dataframe tbody tr th:only-of-type {\n",
       "        vertical-align: middle;\n",
       "    }\n",
       "\n",
       "    .dataframe tbody tr th {\n",
       "        vertical-align: top;\n",
       "    }\n",
       "\n",
       "    .dataframe thead th {\n",
       "        text-align: right;\n",
       "    }\n",
       "</style>\n",
       "<table border=\"1\" class=\"dataframe\">\n",
       "  <thead>\n",
       "    <tr style=\"text-align: right;\">\n",
       "      <th></th>\n",
       "      <th>is_holiday</th>\n",
       "      <th>air_pollution_index</th>\n",
       "      <th>humidity</th>\n",
       "      <th>wind_speed</th>\n",
       "      <th>wind_direction</th>\n",
       "      <th>visibility_in_miles</th>\n",
       "      <th>dew_point</th>\n",
       "      <th>temperature</th>\n",
       "      <th>rain_p_h</th>\n",
       "      <th>snow_p_h</th>\n",
       "      <th>clouds_all</th>\n",
       "      <th>weather_type</th>\n",
       "      <th>weather_description</th>\n",
       "      <th>traffic_volume</th>\n",
       "      <th>date_time</th>\n",
       "    </tr>\n",
       "  </thead>\n",
       "  <tbody>\n",
       "    <tr>\n",
       "      <th>0</th>\n",
       "      <td>Not a Holiday</td>\n",
       "      <td>282.0</td>\n",
       "      <td>65.0</td>\n",
       "      <td>3.0</td>\n",
       "      <td>327.00</td>\n",
       "      <td>5.00</td>\n",
       "      <td>5.00</td>\n",
       "      <td>287.59</td>\n",
       "      <td>0.0</td>\n",
       "      <td>0.0</td>\n",
       "      <td>92.00</td>\n",
       "      <td>Rain</td>\n",
       "      <td>light rain</td>\n",
       "      <td>2886.00</td>\n",
       "      <td>2015-06-11 20:00:00</td>\n",
       "    </tr>\n",
       "    <tr>\n",
       "      <th>1</th>\n",
       "      <td>Not a Holiday</td>\n",
       "      <td>273.0</td>\n",
       "      <td>65.0</td>\n",
       "      <td>3.0</td>\n",
       "      <td>326.91</td>\n",
       "      <td>5.05</td>\n",
       "      <td>5.05</td>\n",
       "      <td>288.04</td>\n",
       "      <td>0.0</td>\n",
       "      <td>0.0</td>\n",
       "      <td>87.82</td>\n",
       "      <td>Rain</td>\n",
       "      <td>light rain</td>\n",
       "      <td>2953.91</td>\n",
       "      <td>2015-06-11 21:00:00</td>\n",
       "    </tr>\n",
       "    <tr>\n",
       "      <th>2</th>\n",
       "      <td>Not a Holiday</td>\n",
       "      <td>264.0</td>\n",
       "      <td>65.0</td>\n",
       "      <td>3.0</td>\n",
       "      <td>326.82</td>\n",
       "      <td>5.09</td>\n",
       "      <td>5.09</td>\n",
       "      <td>288.49</td>\n",
       "      <td>0.0</td>\n",
       "      <td>0.0</td>\n",
       "      <td>83.64</td>\n",
       "      <td>Rain</td>\n",
       "      <td>light rain</td>\n",
       "      <td>3021.82</td>\n",
       "      <td>2015-06-11 22:00:00</td>\n",
       "    </tr>\n",
       "    <tr>\n",
       "      <th>3</th>\n",
       "      <td>Not a Holiday</td>\n",
       "      <td>255.0</td>\n",
       "      <td>65.0</td>\n",
       "      <td>3.0</td>\n",
       "      <td>326.73</td>\n",
       "      <td>5.14</td>\n",
       "      <td>5.14</td>\n",
       "      <td>288.94</td>\n",
       "      <td>0.0</td>\n",
       "      <td>0.0</td>\n",
       "      <td>79.45</td>\n",
       "      <td>Rain</td>\n",
       "      <td>light rain</td>\n",
       "      <td>3089.73</td>\n",
       "      <td>2015-06-11 23:00:00</td>\n",
       "    </tr>\n",
       "    <tr>\n",
       "      <th>4</th>\n",
       "      <td>Not a Holiday</td>\n",
       "      <td>246.0</td>\n",
       "      <td>65.0</td>\n",
       "      <td>3.0</td>\n",
       "      <td>326.64</td>\n",
       "      <td>5.18</td>\n",
       "      <td>5.18</td>\n",
       "      <td>289.40</td>\n",
       "      <td>0.0</td>\n",
       "      <td>0.0</td>\n",
       "      <td>75.27</td>\n",
       "      <td>Clear</td>\n",
       "      <td>sky is clear</td>\n",
       "      <td>3157.64</td>\n",
       "      <td>2015-06-12 00:00:00</td>\n",
       "    </tr>\n",
       "  </tbody>\n",
       "</table>\n",
       "</div>"
      ],
      "text/plain": [
       "      is_holiday  air_pollution_index  humidity  wind_speed  wind_direction  \\\n",
       "0  Not a Holiday                282.0      65.0         3.0          327.00   \n",
       "1  Not a Holiday                273.0      65.0         3.0          326.91   \n",
       "2  Not a Holiday                264.0      65.0         3.0          326.82   \n",
       "3  Not a Holiday                255.0      65.0         3.0          326.73   \n",
       "4  Not a Holiday                246.0      65.0         3.0          326.64   \n",
       "\n",
       "   visibility_in_miles  dew_point  temperature  rain_p_h  snow_p_h  \\\n",
       "0                 5.00       5.00       287.59       0.0       0.0   \n",
       "1                 5.05       5.05       288.04       0.0       0.0   \n",
       "2                 5.09       5.09       288.49       0.0       0.0   \n",
       "3                 5.14       5.14       288.94       0.0       0.0   \n",
       "4                 5.18       5.18       289.40       0.0       0.0   \n",
       "\n",
       "   clouds_all weather_type weather_description  traffic_volume  \\\n",
       "0       92.00         Rain          light rain         2886.00   \n",
       "1       87.82         Rain          light rain         2953.91   \n",
       "2       83.64         Rain          light rain         3021.82   \n",
       "3       79.45         Rain          light rain         3089.73   \n",
       "4       75.27        Clear        sky is clear         3157.64   \n",
       "\n",
       "             date_time  \n",
       "0  2015-06-11 20:00:00  \n",
       "1  2015-06-11 21:00:00  \n",
       "2  2015-06-11 22:00:00  \n",
       "3  2015-06-11 23:00:00  \n",
       "4  2015-06-12 00:00:00  "
      ]
     },
     "execution_count": 4,
     "metadata": {},
     "output_type": "execute_result"
    }
   ],
   "source": [
    "df.head()"
   ]
  },
  {
   "cell_type": "code",
   "execution_count": 5,
   "metadata": {},
   "outputs": [],
   "source": [
    "# to make sample data for website\n",
    "df_sample = df[:50]"
   ]
  },
  {
   "cell_type": "code",
   "execution_count": 6,
   "metadata": {},
   "outputs": [],
   "source": [
    "# df_sample.to_csv('dataset/sample_v2.csv', index=False)"
   ]
  },
  {
   "cell_type": "markdown",
   "metadata": {},
   "source": [
    "# Function to Preprocess and Predict Raw Data"
   ]
  },
  {
   "cell_type": "markdown",
   "metadata": {},
   "source": [
    "make function to preprocess and predict"
   ]
  },
  {
   "cell_type": "code",
   "execution_count": 2,
   "metadata": {},
   "outputs": [],
   "source": [
    "def preprocessing(input_df):\n",
    "    # Categorical Features\n",
    "    ohe_column = ['is_holiday', 'weather_type', 'weather_description']\n",
    "    encoded_data = encoder.transform(input_df[ohe_column])\n",
    "\n",
    "    # Concatenate Encoded Columns to Main DataFrame\n",
    "    df_concated = pd.concat([input_df, pd.DataFrame(encoded_data, columns=encoder.get_feature_names_out())], axis=1)\n",
    "    df_concated.drop(columns=ohe_column, inplace=True)\n",
    "\n",
    "    # Feature Engineering\n",
    "    df_concated['date_time'] = pd.to_datetime(df_concated['date_time'])\n",
    "    df_concated['day'] = df_concated['date_time'].dt.day\n",
    "    df_concated['month'] = df_concated['date_time'].dt.month\n",
    "    df_concated['hour'] = df_concated['date_time'].dt.hour\n",
    "\n",
    "    # Set the 'datetime_col' as the index of the DataFrame\n",
    "    df_concated.set_index('date_time', inplace=True)\n",
    "\n",
    "    # Put Target column to the last column\n",
    "    df_concated['traffic_volume'] = df_concated.pop('traffic_volume')\n",
    "\n",
    "    # Scale the data\n",
    "    df_concated = pd.DataFrame(scaler.transform(df_concated), columns=scaler.get_feature_names_out(), index=df_concated.index)\n",
    "\n",
    "    # Reshape to fit RNN needs\n",
    "    X = []\n",
    "\n",
    "    n_future = 1   # Number of data we want to look into the future based on the past data.\n",
    "    n_past = 24  # Number of past data we want to use to predict the future.\n",
    "\n",
    "    for i in range(n_past, len(df_concated) - n_future + 1):\n",
    "        X.append(df_concated.iloc[i - n_past:i].values)\n",
    "\n",
    "    return np.array(X)\n",
    "\n",
    "def predict(input_df):\n",
    "    X = preprocessing(input_df)\n",
    "    return model.predict(X)"
   ]
  },
  {
   "cell_type": "code",
   "execution_count": 10,
   "metadata": {},
   "outputs": [
    {
     "name": "stdout",
     "output_type": "stream",
     "text": [
      "1/1 [==============================] - 2s 2s/step\n"
     ]
    }
   ],
   "source": [
    "pred = predict(df_sample)"
   ]
  },
  {
   "cell_type": "code",
   "execution_count": 7,
   "metadata": {},
   "outputs": [
    {
     "data": {
      "text/plain": [
       "array([[0.46962887],\n",
       "       [0.40817383],\n",
       "       [0.4639085 ],\n",
       "       [0.43962893],\n",
       "       [0.40824783],\n",
       "       [0.4467039 ],\n",
       "       [0.4511142 ],\n",
       "       [0.44394234],\n",
       "       [0.44184676],\n",
       "       [0.43967226],\n",
       "       [0.44469383],\n",
       "       [0.44680092],\n",
       "       [0.44819382],\n",
       "       [0.44579047],\n",
       "       [0.44378352],\n",
       "       [0.44081643],\n",
       "       [0.4379945 ],\n",
       "       [0.43667823],\n",
       "       [0.43548775],\n",
       "       [0.43359905],\n",
       "       [0.4292503 ],\n",
       "       [0.42365956],\n",
       "       [0.41720188],\n",
       "       [0.41246632],\n",
       "       [0.4132428 ],\n",
       "       [0.41192174]], dtype=float32)"
      ]
     },
     "execution_count": 7,
     "metadata": {},
     "output_type": "execute_result"
    }
   ],
   "source": [
    "pred"
   ]
  },
  {
   "cell_type": "markdown",
   "metadata": {},
   "source": [
    "# Try to fetch from Database"
   ]
  },
  {
   "cell_type": "markdown",
   "metadata": {},
   "source": [
    "Here I want to fetch data from my local MySQL database to simulate when I fetch data for my website"
   ]
  },
  {
   "cell_type": "code",
   "execution_count": 50,
   "metadata": {},
   "outputs": [],
   "source": [
    "import mysql.connector"
   ]
  },
  {
   "cell_type": "code",
   "execution_count": 51,
   "metadata": {},
   "outputs": [],
   "source": [
    "mysql_config = {\n",
    "    'host': 'localhost',\n",
    "    'user': 'root',\n",
    "    'password': '',\n",
    "    'database': 'tugas_akhir',\n",
    "}"
   ]
  },
  {
   "cell_type": "code",
   "execution_count": 52,
   "metadata": {},
   "outputs": [],
   "source": [
    "conn = mysql.connector.connect(**mysql_config)"
   ]
  },
  {
   "cell_type": "code",
   "execution_count": 59,
   "metadata": {},
   "outputs": [],
   "source": [
    "sql = \"SELECT * FROM ( SELECT * FROM sample_v2 ORDER BY id DESC LIMIT 24 ) as SUBQUERY ORDER BY id\"\n",
    "\n",
    "mycursor = conn.cursor(dictionary=True)\n",
    "mycursor.execute(sql)\n",
    "myresult = mycursor.fetchall()"
   ]
  },
  {
   "cell_type": "code",
   "execution_count": 60,
   "metadata": {},
   "outputs": [],
   "source": [
    "df = pd.DataFrame(myresult)\n",
    "df.drop(columns=['id'], inplace=True)"
   ]
  },
  {
   "cell_type": "markdown",
   "metadata": {},
   "source": [
    "# Revise Functions so it Fit with Dataset from Database"
   ]
  },
  {
   "cell_type": "markdown",
   "metadata": {},
   "source": [
    "There's some revisions I need to make to the function so it suitable with my need at the website"
   ]
  },
  {
   "cell_type": "code",
   "execution_count": 1,
   "metadata": {},
   "outputs": [],
   "source": [
    "import pandas as pd\n",
    "import numpy as np\n",
    "import joblib\n",
    "from sklearn.preprocessing import OneHotEncoder, MinMaxScaler\n",
    "from tensorflow.keras.models import load_model\n",
    "\n",
    "# Load encoder and scaler\n",
    "encoder = joblib.load('outputs/OHE_encoder_second_v3.joblib')\n",
    "scaler = joblib.load('outputs/MM_scaler_second_v2.joblib')\n",
    "model = load_model('model\\Tuned\\BiLSTM_second_v3.h5')"
   ]
  },
  {
   "cell_type": "code",
   "execution_count": 66,
   "metadata": {},
   "outputs": [],
   "source": [
    "def preprocess_data(input_df):\n",
    "    # Columns to convert to float\n",
    "    columns_to_convert = [\n",
    "        'air_pollution_index', 'humidity', 'wind_speed', 'wind_direction',\n",
    "        'visibility_in_miles', 'dew_point', 'temperature', 'rain_p_h',\n",
    "        'snow_p_h', 'clouds_all', 'traffic_volume'\n",
    "    ]\n",
    "\n",
    "    # Convert specified columns to float\n",
    "    input_df[columns_to_convert] = input_df[columns_to_convert].astype(float)\n",
    "\n",
    "    # Categorical Features\n",
    "    ohe_column = ['is_holiday', 'weather_type', 'weather_description']\n",
    "    encoded_data = encoder.transform(input_df[ohe_column])\n",
    "\n",
    "    # Concatenate Encoded Columns to Main DataFrame\n",
    "    df_concated = pd.concat([input_df, pd.DataFrame(encoded_data, columns=encoder.get_feature_names_out())], axis=1)\n",
    "    df_concated.drop(columns=ohe_column, inplace=True)\n",
    "\n",
    "    # Feature Engineering\n",
    "    df_concated['date_time'] = pd.to_datetime(df_concated['date_time'])\n",
    "    df_concated['day'] = df_concated['date_time'].dt.day\n",
    "    df_concated['month'] = df_concated['date_time'].dt.month\n",
    "    df_concated['hour'] = df_concated['date_time'].dt.hour\n",
    "\n",
    "    # Set the 'date_time' as the index of the DataFrame\n",
    "    df_concated.set_index('date_time', inplace=True)\n",
    "\n",
    "    # Move Target column to the last\n",
    "    df_concated['traffic_volume'] = df_concated.pop('traffic_volume')\n",
    "\n",
    "    # Scale the data\n",
    "    df_concated = pd.DataFrame(scaler.transform(df_concated), columns=scaler.get_feature_names_out(), index=df_concated.index)\n",
    "\n",
    "    # Reshape into Input Data Requirement\n",
    "    X = df_concated.values.reshape(1, 24, -1)  # Adjust the shape as per your model's requirement\n",
    "\n",
    "    return X"
   ]
  },
  {
   "cell_type": "code",
   "execution_count": 75,
   "metadata": {},
   "outputs": [],
   "source": [
    "def predict(input_df):\n",
    "    X = preprocess_data(input_df)\n",
    "    X_copy = np.repeat(model.predict(X), 62, axis=-1)\n",
    "    X_unscale = scaler.inverse_transform(X_copy)[:,-1]\n",
    "    return X_unscale"
   ]
  },
  {
   "cell_type": "code",
   "execution_count": 76,
   "metadata": {},
   "outputs": [
    {
     "name": "stdout",
     "output_type": "stream",
     "text": [
      "1/1 [==============================] - 0s 92ms/step\n"
     ]
    }
   ],
   "source": [
    "pred = predict(df)"
   ]
  },
  {
   "cell_type": "code",
   "execution_count": 77,
   "metadata": {},
   "outputs": [
    {
     "data": {
      "text/plain": [
       "array([2985.3638], dtype=float32)"
      ]
     },
     "execution_count": 77,
     "metadata": {},
     "output_type": "execute_result"
    }
   ],
   "source": [
    "pred"
   ]
  }
 ],
 "metadata": {
  "kernelspec": {
   "display_name": "XAI",
   "language": "python",
   "name": "python3"
  },
  "language_info": {
   "codemirror_mode": {
    "name": "ipython",
    "version": 3
   },
   "file_extension": ".py",
   "mimetype": "text/x-python",
   "name": "python",
   "nbconvert_exporter": "python",
   "pygments_lexer": "ipython3",
   "version": "3.11.5"
  }
 },
 "nbformat": 4,
 "nbformat_minor": 2
}
