{
 "cells": [
  {
   "cell_type": "markdown",
   "metadata": {},
   "source": [
    "# Load Dataset"
   ]
  },
  {
   "cell_type": "code",
   "execution_count": 3,
   "metadata": {},
   "outputs": [],
   "source": [
    "import pandas as pd\n",
    "df = pd.read_csv('dataset/secondhalf.csv')"
   ]
  },
  {
   "cell_type": "markdown",
   "metadata": {},
   "source": [
    "# Function to Preprocess Raw Data"
   ]
  },
  {
   "cell_type": "code",
   "execution_count": 15,
   "metadata": {},
   "outputs": [],
   "source": [
    "import pandas as pd\n",
    "import numpy as np\n",
    "import joblib\n",
    "from sklearn.preprocessing import OneHotEncoder, MinMaxScaler\n",
    "\n",
    "def preprocessing(input_df):\n",
    "    # Load encoder and scaler\n",
    "    encoder = joblib.load('outputs/OHE_encoder_second.joblib')\n",
    "    scaler = joblib.load('outputs/MM_scaler_second.joblib')\n",
    "\n",
    "    # Categorical Features\n",
    "    ohe_column = ['is_holiday', 'weather_type', 'weather_description']\n",
    "    encoded_data = encoder.transform(input_df[ohe_column])\n",
    "    df_encoded = pd.DataFrame(encoded_data, columns=encoder.get_feature_names_out())\n",
    "\n",
    "    # Concatenate Encoded Columns to Main DataFrame\n",
    "    df_concated = pd.concat([input_df, df_encoded], axis=1)\n",
    "    df_concated.drop(columns=['is_holiday', 'weather_type', 'weather_description'], inplace=True)\n",
    "\n",
    "    # Feature Engineering\n",
    "    df_concated['date_time'] = pd.to_datetime(df_concated['date_time'])\n",
    "    df_concated['day'] = df_concated['date_time'].dt.day\n",
    "    df_concated['month'] = df_concated['date_time'].dt.month\n",
    "    df_concated['hour'] = df_concated['date_time'].dt.hour\n",
    "\n",
    "    # Set the 'datetime_col' as the index of the DataFrame\n",
    "    df_concated = df_concated.set_index('date_time')\n",
    "\n",
    "    # Put Target column to the last column\n",
    "    df_target = df_concated['traffic_volume']\n",
    "    df_concated.drop(columns=['traffic_volume'], inplace=True)\n",
    "    df_concated['traffic_volume'] = df_target\n",
    "\n",
    "    # Scale the data\n",
    "    scaled_data = scaler.transform(df_concated)\n",
    "\n",
    "    df_scaled = pd.DataFrame(scaled_data, columns=scaler.get_feature_names_out())\n",
    "    df_scaled.index = df_concated.index\n",
    "\n",
    "    # Reshape to fit RNN needs\n",
    "    X_test = []\n",
    "\n",
    "    n_future = 1   # Number of data we want to look into the future based on the past data.\n",
    "    n_past = 24  # Number of past data we want to use to predict the future.\n",
    "\n",
    "    for i in range(n_past, len(scaled_data) - n_future + 1):\n",
    "        X_test.append(scaled_data[i - n_past:i, 0:df_scaled.shape[1]])\n",
    "\n",
    "    X_test = np.array(X_test)\n",
    "\n",
    "    return X_test"
   ]
  },
  {
   "cell_type": "markdown",
   "metadata": {},
   "source": [
    "# Function to Predict from Raw Data"
   ]
  },
  {
   "cell_type": "code",
   "execution_count": 16,
   "metadata": {},
   "outputs": [],
   "source": [
    "from tensorflow.keras.models import load_model\n",
    "\n",
    "def predict(input_df):\n",
    "    # Preprocess raw data\n",
    "    X_test = preprocessing(input_df)\n",
    "\n",
    "    # Load the model\n",
    "    model = load_model('model\\Tuned\\BiLSTM_second.h5')\n",
    "\n",
    "    # Predict on preprocessed data using loaded model\n",
    "    predictions = model.predict(X_test)\n",
    "\n",
    "    return predictions"
   ]
  },
  {
   "cell_type": "code",
   "execution_count": 17,
   "metadata": {},
   "outputs": [
    {
     "name": "stdout",
     "output_type": "stream",
     "text": [
      "529/529 [==============================] - 5s 7ms/step\n"
     ]
    }
   ],
   "source": [
    "y_test = predict(df)"
   ]
  },
  {
   "cell_type": "code",
   "execution_count": 18,
   "metadata": {},
   "outputs": [
    {
     "data": {
      "text/plain": [
       "(16924, 1)"
      ]
     },
     "execution_count": 18,
     "metadata": {},
     "output_type": "execute_result"
    }
   ],
   "source": [
    "y_test.shape"
   ]
  },
  {
   "cell_type": "code",
   "execution_count": 19,
   "metadata": {},
   "outputs": [
    {
     "data": {
      "text/plain": [
       "array([[0.46986553],\n",
       "       [0.44493145],\n",
       "       [0.47829697],\n",
       "       ...,\n",
       "       [0.3122663 ],\n",
       "       [0.2533378 ],\n",
       "       [0.18210873]], dtype=float32)"
      ]
     },
     "execution_count": 19,
     "metadata": {},
     "output_type": "execute_result"
    }
   ],
   "source": [
    "y_test"
   ]
  }
 ],
 "metadata": {
  "kernelspec": {
   "display_name": "XAI",
   "language": "python",
   "name": "python3"
  },
  "language_info": {
   "codemirror_mode": {
    "name": "ipython",
    "version": 3
   },
   "file_extension": ".py",
   "mimetype": "text/x-python",
   "name": "python",
   "nbconvert_exporter": "python",
   "pygments_lexer": "ipython3",
   "version": "3.11.5"
  }
 },
 "nbformat": 4,
 "nbformat_minor": 2
}
